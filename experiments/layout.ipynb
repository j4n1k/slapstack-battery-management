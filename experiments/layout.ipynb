{
 "cells": [
  {
   "cell_type": "code",
   "id": "initial_id",
   "metadata": {
    "collapsed": true,
    "ExecuteTime": {
     "end_time": "2024-09-24T07:40:14.244879Z",
     "start_time": "2024-09-24T07:40:14.232308Z"
    }
   },
   "source": [
    "import pandas as pd\n",
    "import numpy as np\n",
    "from copy import deepcopy\n",
    "import matplotlib.pyplot as plt \n",
    "import json\n"
   ],
   "outputs": [],
   "execution_count": 20
  },
  {
   "cell_type": "code",
   "id": "b8cbf160e5aba015",
   "metadata": {
    "collapsed": false,
    "ExecuteTime": {
     "end_time": "2024-09-24T07:40:47.801768Z",
     "start_time": "2024-09-24T07:40:47.257923Z"
    }
   },
   "source": [
    "orders = json.load(open(\"../1_environment/slapstack/slapstack/use_cases/wepastacks/2_orders.json\")) \n",
    "i = 0\n",
    "print(len(orders))\n",
    "orders_new = []\n",
    "for order in orders:\n",
    "    if i < 20000:\n",
    "        orders_new.append(order)\n",
    "    else:\n",
    "        break\n",
    "    i += 1"
   ],
   "outputs": [
    {
     "name": "stdout",
     "output_type": "stream",
     "text": [
      "411830\n"
     ]
    }
   ],
   "execution_count": 23
  },
  {
   "cell_type": "code",
   "id": "326d5def76e29215",
   "metadata": {
    "collapsed": false,
    "ExecuteTime": {
     "end_time": "2024-09-24T07:40:17.359807Z",
     "start_time": "2024-09-24T07:40:17.355200Z"
    }
   },
   "source": [
    "len(orders_new)"
   ],
   "outputs": [
    {
     "data": {
      "text/plain": [
       "20000"
      ]
     },
     "execution_count": 22,
     "metadata": {},
     "output_type": "execute_result"
    }
   ],
   "execution_count": 22
  },
  {
   "cell_type": "code",
   "id": "e84c4c0106e0c82f",
   "metadata": {
    "collapsed": false,
    "ExecuteTime": {
     "end_time": "2024-09-22T13:58:59.205480Z",
     "start_time": "2024-09-22T13:58:59.201874Z"
    }
   },
   "source": [
    "#del orders_new[300000:320000]"
   ],
   "outputs": [],
   "execution_count": 18
  },
  {
   "cell_type": "code",
   "id": "dd96bac2ac307e76",
   "metadata": {
    "collapsed": false,
    "ExecuteTime": {
     "end_time": "2024-09-24T07:41:21.077438Z",
     "start_time": "2024-09-24T07:41:19.751409Z"
    }
   },
   "source": [
    "json.dump(orders_new, open(\"../1_environment/slapstack/slapstack/use_cases/wepastacks_bm/2_orders.json\", \"w\"))"
   ],
   "outputs": [],
   "execution_count": 26
  },
  {
   "metadata": {
    "ExecuteTime": {
     "end_time": "2024-09-17T08:31:57.615710Z",
     "start_time": "2024-09-17T08:31:57.612418Z"
    }
   },
   "cell_type": "code",
   "source": "use_case = \"crossstacks\"",
   "id": "791b3b0acde30173",
   "outputs": [],
   "execution_count": 74
  },
  {
   "cell_type": "code",
   "id": "9b6e9b672e1d06d9",
   "metadata": {
    "collapsed": false,
    "ExecuteTime": {
     "end_time": "2024-09-17T08:31:57.817555Z",
     "start_time": "2024-09-17T08:31:57.810744Z"
    }
   },
   "source": "layout = pd.read_csv(f\"../1_environment/slapstack/slapstack/use_cases/{use_case}/1_layout.csv\", header=None, delimiter=\",\")",
   "outputs": [],
   "execution_count": 75
  },
  {
   "cell_type": "code",
   "id": "a13882b197fa74fb",
   "metadata": {
    "collapsed": false,
    "ExecuteTime": {
     "end_time": "2024-09-17T08:31:59.477431Z",
     "start_time": "2024-09-17T08:31:59.473337Z"
    }
   },
   "source": [
    "layout.dropna(axis=1, how='all', inplace=True)"
   ],
   "outputs": [],
   "execution_count": 76
  },
  {
   "cell_type": "code",
   "id": "297b233f5fc8ab91",
   "metadata": {
    "collapsed": false,
    "ExecuteTime": {
     "end_time": "2024-09-17T08:32:04.852269Z",
     "start_time": "2024-09-17T08:32:04.765956Z"
    }
   },
   "source": [
    "plt.imshow(layout)"
   ],
   "outputs": [
    {
     "data": {
      "text/plain": [
       "<matplotlib.image.AxesImage at 0x210b60798d0>"
      ]
     },
     "execution_count": 77,
     "metadata": {},
     "output_type": "execute_result"
    },
    {
     "data": {
      "text/plain": [
       "<Figure size 640x480 with 1 Axes>"
      ],
      "image/png": "[encoded data removed]"
     },
     "metadata": {},
     "output_type": "display_data"
    }
   ],
   "execution_count": 77
  },
  {
   "cell_type": "code",
   "id": "2c10be4649083bb5",
   "metadata": {
    "collapsed": false,
    "ExecuteTime": {
     "end_time": "2024-09-17T08:32:10.277109Z",
     "start_time": "2024-09-17T08:32:10.268750Z"
    }
   },
   "source": [
    "def gen_charging_stations(layout, n_cs):\n",
    "    charging_locs = [len(layout.columns) * i // (n_cs + 1) for i in range(1, n_cs + 1)]\n",
    "    aisle = pd.DataFrame({i: -1 if i == 0 or i == len(layout.columns)-1 else -6 if i in charging_locs else -2 for i in range(len(layout.columns))}, index=[1])\n",
    "    aisle1 = pd.DataFrame({i: -1 if i == 0 or i == len(layout.columns)-1 else -5 if i in charging_locs else -2 for i in range(len(layout.columns))}, index=[2])\n",
    "    line = pd.DataFrame({i: -1 if i == 0 or i == len(layout.columns)-1 else -2 if i == 1 else -5 for i in range(len(layout.columns))}, index=[3])\n",
    "    aisle2 = pd.DataFrame({i: -1 if i == 0 or i == len(layout.columns)-1 else -5 if i == 2 else -2 for i in range(len(layout.columns))}, index=[4])\n",
    "    \n",
    "    layout_new = pd.concat([layout.iloc[:1], aisle, aisle1, line, aisle2, layout.iloc[1:]]).reset_index(drop=True)\n",
    "    return layout_new\n",
    "\n",
    "def gen_charging_stations_left(layout, n_cs):\n",
    "    # Calculate the positions for charging stations\n",
    "    charging_locs = [len(layout.index) * i // (n_cs + 1) for i in range(1, n_cs + 1)]\n",
    "    \n",
    "    # Create new columns for the charging stations and aisles\n",
    "    aisle = pd.Series({i: -1 if i == 0 or i == len(layout.index)-1 else -6 if i in charging_locs else -2 for i in range(len(layout.index))})\n",
    "    aisle1 = pd.Series({i: -1 if i == 0 or i == len(layout.index)-1 else -5 if i in charging_locs else -2 for i in range(len(layout.index))})\n",
    "    #line = pd.Series({i: -1 if i == 0 or i == len(layout.index)-1 else -2 if i == 1 else -5 for i in range(len(layout.index))})\n",
    "    # aisle2 = pd.Series({i: -1 if i == 0 or i == len(layout.index)-1 else -5 if i in charging_locs else -2 for i in range(len(layout.index))})\n",
    "    # aisle3 = pd.Series({i: -1 if i == 0 or i == len(layout.index)-1 else -5 if i in charging_locs else -2 for i in range(len(layout.index))})\n",
    "    \n",
    "    # Concatenate the new columns with the existing layout, preserving the structure\n",
    "    layout_new = pd.concat([\n",
    "        layout.iloc[:, :1],  # First column of original layout\n",
    "        pd.DataFrame({0: aisle, 1: aisle1}),  # New columns\n",
    "        layout.iloc[:, 2:]  # Rest of the original layout\n",
    "    ], axis=1)\n",
    "    \n",
    "    # Reset and rename the columns\n",
    "    layout_new.columns = range(len(layout_new.columns))\n",
    "    \n",
    "    return layout_new\n",
    "    "
   ],
   "outputs": [],
   "execution_count": 78
  },
  {
   "metadata": {
    "ExecuteTime": {
     "end_time": "2024-09-17T08:32:48.604345Z",
     "start_time": "2024-09-17T08:32:48.599159Z"
    }
   },
   "cell_type": "code",
   "source": [
    "if use_case == \"wepastacks\":\n",
    "    layout_new = gen_charging_stations(layout, 4)\n",
    "elif use_case == \"crossstacks\":\n",
    "    layout_new = gen_charging_stations_left(layout, 4)"
   ],
   "id": "ee70ed738168eaf1",
   "outputs": [],
   "execution_count": 79
  },
  {
   "cell_type": "code",
   "id": "94a8549ed7f9bb33",
   "metadata": {
    "collapsed": false,
    "ExecuteTime": {
     "end_time": "2024-09-17T08:32:52.169723Z",
     "start_time": "2024-09-17T08:32:52.078857Z"
    }
   },
   "source": [
    "plt.imshow(layout_new)"
   ],
   "outputs": [
    {
     "data": {
      "text/plain": [
       "<matplotlib.image.AxesImage at 0x210b61788d0>"
      ]
     },
     "execution_count": 81,
     "metadata": {},
     "output_type": "execute_result"
    },
    {
     "data": {
      "text/plain": [
       "<Figure size 640x480 with 1 Axes>"
      ],
      "image/png": "[encoded data removed]"
     },
     "metadata": {},
     "output_type": "display_data"
    }
   ],
   "execution_count": 81
  },
  {
   "cell_type": "code",
   "id": "8dd802260993ea27",
   "metadata": {
    "collapsed": false,
    "ExecuteTime": {
     "end_time": "2024-09-17T08:33:17.734689Z",
     "start_time": "2024-09-17T08:33:17.727875Z"
    }
   },
   "source": "layout_new.to_csv(f\"../1_environment/slapstack/slapstack/use_cases/{use_case}_bm/1_layout.csv\", header=None, index=False)",
   "outputs": [],
   "execution_count": 82
  },
  {
   "cell_type": "code",
   "execution_count": null,
   "id": "b0afdca2aa206216",
   "metadata": {
    "collapsed": false
   },
   "outputs": [],
   "source": []
  }
 ],
 "metadata": {
  "kernelspec": {
   "display_name": "Python 3",
   "language": "python",
   "name": "python3"
  },
  "language_info": {
   "codemirror_mode": {
    "name": "ipython",
    "version": 2
   },
   "file_extension": ".py",
   "mimetype": "text/x-python",
   "name": "python",
   "nbconvert_exporter": "python"
  }
 },
 "nbformat": 4,
 "nbformat_minor": 5
}
