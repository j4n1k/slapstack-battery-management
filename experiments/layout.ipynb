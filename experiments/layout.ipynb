{
 "cells": [
  {
   "cell_type": "code",
   "id": "initial_id",
   "metadata": {
    "collapsed": true,
    "ExecuteTime": {
     "end_time": "2024-09-16T18:42:01.210982Z",
     "start_time": "2024-09-16T18:42:01.186856Z"
    }
   },
   "source": [
    "import pandas as pd\n",
    "import numpy as np\n",
    "from copy import deepcopy\n",
    "import matplotlib.pyplot as plt "
   ],
   "outputs": [],
   "execution_count": 7
  },
  {
   "cell_type": "code",
   "id": "b8cbf160e5aba015",
   "metadata": {
    "collapsed": false,
    "ExecuteTime": {
     "end_time": "2024-09-16T18:48:18.426500Z",
     "start_time": "2024-09-16T18:48:17.688610Z"
    }
   },
   "source": [
    "import json\n",
    "\n",
    "orders = json.load(open(\"../1_environment/slapstack/slapstack/use_cases/wepastacks/2_orders.json\")) \n",
    "i = 0\n",
    "print(len(orders))\n",
    "orders_new = []\n",
    "for order in orders:\n",
    "    if i < 200000:\n",
    "        orders_new.append(order)\n",
    "    else:\n",
    "        break\n",
    "    i += 1"
   ],
   "outputs": [
    {
     "name": "stdout",
     "output_type": "stream",
     "text": [
      "411830\n"
     ]
    }
   ],
   "execution_count": 16
  },
  {
   "cell_type": "code",
   "id": "326d5def76e29215",
   "metadata": {
    "collapsed": false,
    "ExecuteTime": {
     "end_time": "2024-09-16T18:48:18.431317Z",
     "start_time": "2024-09-16T18:48:18.427508Z"
    }
   },
   "source": [
    "len(orders_new)"
   ],
   "outputs": [
    {
     "data": {
      "text/plain": [
       "200000"
      ]
     },
     "execution_count": 17,
     "metadata": {},
     "output_type": "execute_result"
    }
   ],
   "execution_count": 17
  },
  {
   "cell_type": "code",
   "id": "e84c4c0106e0c82f",
   "metadata": {
    "collapsed": false,
    "ExecuteTime": {
     "end_time": "2024-09-16T18:48:19.276003Z",
     "start_time": "2024-09-16T18:48:19.272895Z"
    }
   },
   "source": [
    "#del orders_new[300000:320000]"
   ],
   "outputs": [],
   "execution_count": 18
  },
  {
   "cell_type": "code",
   "id": "dd96bac2ac307e76",
   "metadata": {
    "collapsed": false,
    "ExecuteTime": {
     "end_time": "2024-09-16T18:48:21.452720Z",
     "start_time": "2024-09-16T18:48:20.741883Z"
    }
   },
   "source": [
    "json.dump(orders_new, open(\"../1_environment/slapstack/slapstack/use_cases/wepastacks_bm/2_orders.json\", \"w\"))"
   ],
   "outputs": [],
   "execution_count": 19
  },
  {
   "cell_type": "code",
   "id": "9b6e9b672e1d06d9",
   "metadata": {
    "collapsed": false,
    "ExecuteTime": {
     "end_time": "2024-09-16T17:22:01.509567Z",
     "start_time": "2024-09-16T17:22:01.501366Z"
    }
   },
   "source": "layout = pd.read_csv(\"../1_environment/slapstack/slapstack/use_cases/crossstacks/1_layout.csv\", header=None, delimiter=\",\")",
   "outputs": [],
   "execution_count": 2
  },
  {
   "cell_type": "code",
   "id": "a13882b197fa74fb",
   "metadata": {
    "collapsed": false,
    "ExecuteTime": {
     "end_time": "2024-09-16T17:22:02.642273Z",
     "start_time": "2024-09-16T17:22:02.638042Z"
    }
   },
   "source": [
    "layout.dropna(axis=1, how='all', inplace=True)"
   ],
   "outputs": [],
   "execution_count": 3
  },
  {
   "cell_type": "code",
   "id": "586041659a1031ab",
   "metadata": {
    "collapsed": false,
    "ExecuteTime": {
     "end_time": "2024-09-16T17:22:15.312020Z",
     "start_time": "2024-09-16T17:22:15.308508Z"
    }
   },
   "source": [
    "# layout.drop([125], axis=1, inplace=True)"
   ],
   "outputs": [],
   "execution_count": 4
  },
  {
   "cell_type": "code",
   "id": "297b233f5fc8ab91",
   "metadata": {
    "collapsed": false,
    "ExecuteTime": {
     "end_time": "2024-09-16T17:22:15.631153Z",
     "start_time": "2024-09-16T17:22:15.403508Z"
    }
   },
   "source": [
    "plt.imshow(layout)"
   ],
   "outputs": [
    {
     "data": {
      "text/plain": [
       "<matplotlib.image.AxesImage at 0x2913407d410>"
      ]
     },
     "execution_count": 5,
     "metadata": {},
     "output_type": "execute_result"
    },
    {
     "data": {
      "text/plain": [
       "<Figure size 640x480 with 1 Axes>"
      ],
      "image/png": "[encoded data removed]"
     },
     "metadata": {},
     "output_type": "display_data"
    }
   ],
   "execution_count": 5
  },
  {
   "cell_type": "code",
   "id": "2c10be4649083bb5",
   "metadata": {
    "collapsed": false,
    "ExecuteTime": {
     "end_time": "2024-09-16T17:22:15.644747Z",
     "start_time": "2024-09-16T17:22:15.636822Z"
    }
   },
   "source": [
    "def gen_charging_stations(layout, n_cs):\n",
    "    layout_new = deepcopy(layout)\n",
    "    charging_locs = [len(layout.columns) * i // (n_cs + 1) for i in range(1, n_cs + 1)]\n",
    "    aisle = pd.DataFrame({i: -1 if i == 0 or i == len(layout.columns)-1 else -6 if i in charging_locs else -2 for i in range(len(layout.columns))}, index=[1])\n",
    "    aisle1 = pd.DataFrame({i: -1 if i == 0 or i == len(layout.columns)-1 else -5 if i in charging_locs else -2 for i in range(len(layout.columns))}, index=[2])\n",
    "    line = pd.DataFrame({i: -1 if i == 0 or i == len(layout.columns)-1 else -2 if i == 1 else -5 for i in range(len(layout.columns))}, index=[3])\n",
    "    aisle2 = pd.DataFrame({i: -1 if i == 0 or i == len(layout.columns)-1 else -5 if i == 2 else -2 for i in range(len(layout.columns))}, index=[4])\n",
    "    \n",
    "    layout_new = pd.concat([layout.iloc[:1], aisle, aisle1, line, aisle2, layout.iloc[1:]]).reset_index(drop=True)\n",
    "    return layout_new\n",
    "    "
   ],
   "outputs": [],
   "execution_count": 6
  },
  {
   "cell_type": "code",
   "id": "51f0b2dd94208b0f",
   "metadata": {
    "collapsed": false,
    "ExecuteTime": {
     "end_time": "2024-09-16T10:01:37.184289Z",
     "start_time": "2024-09-16T10:01:37.175800Z"
    }
   },
   "source": [
    "layout_new = gen_charging_stations(layout, 4)"
   ],
   "outputs": [],
   "execution_count": 26
  },
  {
   "cell_type": "code",
   "id": "94a8549ed7f9bb33",
   "metadata": {
    "collapsed": false,
    "ExecuteTime": {
     "end_time": "2024-09-16T10:01:43.389137Z",
     "start_time": "2024-09-16T10:01:43.306767Z"
    }
   },
   "source": [
    "plt.imshow(layout_new)"
   ],
   "outputs": [
    {
     "data": {
      "text/plain": [
       "<matplotlib.image.AxesImage at 0x179aa99be90>"
      ]
     },
     "execution_count": 28,
     "metadata": {},
     "output_type": "execute_result"
    },
    {
     "data": {
      "text/plain": [
       "<Figure size 640x480 with 1 Axes>"
      ],
      "image/png": "[encoded data removed]"
     },
     "metadata": {},
     "output_type": "display_data"
    }
   ],
   "execution_count": 28
  },
  {
   "cell_type": "code",
   "id": "8dd802260993ea27",
   "metadata": {
    "collapsed": false,
    "ExecuteTime": {
     "end_time": "2024-09-16T10:01:55.199614Z",
     "start_time": "2024-09-16T10:01:55.193519Z"
    }
   },
   "source": [
    "layout_new.to_csv(\"../1_environment/slapstack/slapstack/use_cases/wepastacks_bm/1_layout.csv\", header=None, index=False)"
   ],
   "outputs": [],
   "execution_count": 29
  },
  {
   "cell_type": "code",
   "execution_count": null,
   "id": "b0afdca2aa206216",
   "metadata": {
    "collapsed": false
   },
   "outputs": [],
   "source": []
  }
 ],
 "metadata": {
  "kernelspec": {
   "display_name": "Python 3",
   "language": "python",
   "name": "python3"
  },
  "language_info": {
   "codemirror_mode": {
    "name": "ipython",
    "version": 2
   },
   "file_extension": ".py",
   "mimetype": "text/x-python",
   "name": "python",
   "nbconvert_exporter": "python"
  }
 },
 "nbformat": 4,
 "nbformat_minor": 5
}
