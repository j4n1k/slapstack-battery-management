{
 "cells": [
  {
   "cell_type": "code",
   "id": "initial_id",
   "metadata": {
    "collapsed": true,
    "ExecuteTime": {
     "end_time": "2024-10-26T18:38:39.424317Z",
     "start_time": "2024-10-26T18:38:39.418891Z"
    }
   },
   "source": [
    "import pandas as pd\n",
    "import numpy as np\n",
    "from copy import deepcopy\n",
    "import matplotlib.pyplot as plt \n",
    "import json\n"
   ],
   "outputs": [],
   "execution_count": 68
  },
  {
   "metadata": {
    "ExecuteTime": {
     "end_time": "2024-10-25T14:41:42.923370Z",
     "start_time": "2024-10-25T14:41:42.244515Z"
    }
   },
   "cell_type": "code",
   "source": [
    "orders = json.load(open(\"../1_environment/slapstack/slapstack/use_cases/wepastacks/2_orders.json\")) \n",
    "initial_fill = json.load(open(\"../1_environment/slapstack/slapstack/use_cases/wepastacks/3_initial_fill_lvl.json\"))"
   ],
   "id": "d3bc9ce5f3467482",
   "outputs": [],
   "execution_count": 19
  },
  {
   "metadata": {
    "ExecuteTime": {
     "end_time": "2024-10-25T14:36:26.711151Z",
     "start_time": "2024-10-25T14:36:26.420463Z"
    }
   },
   "cell_type": "code",
   "source": [
    "order_columns = ['type', 'sku', 'time', 'dock', 'batch', 'week']\n",
    "order_df = pd.DataFrame(orders, columns=order_columns)\n",
    "\n",
    "# Sort the orders by time\n",
    "order_df = order_df.sort_values(by='time').reset_index(drop=True)\n",
    "\n",
    "# Calculate the time difference between consecutive orders\n",
    "order_df['time_diff'] = order_df['time'].diff()\n",
    "\n",
    "# Define a threshold for breaks (e.g., 1200 seconds for a 20-minute break)\n",
    "threshold = 1200\n",
    "\n",
    "# Identify breaks\n",
    "breaks = order_df[order_df['time_diff'] > threshold]\n",
    "\n",
    "# Display the breaks\n",
    "print(breaks[['time', 'time_diff']])"
   ],
   "id": "8773847615a193d6",
   "outputs": [
    {
     "name": "stdout",
     "output_type": "stream",
     "text": [
      "           time  time_diff\n",
      "596      172800    68700.0\n",
      "14218    345600    12410.0\n",
      "16296    432000    20665.0\n",
      "21875    518400     9312.0\n",
      "30262    691282     7308.0\n",
      "...         ...        ...\n",
      "392997  7430400    33672.0\n",
      "399742  7516800    18535.0\n",
      "411575  7650000     1320.0\n",
      "411615  7653600     3240.0\n",
      "411715  7657200     3600.0\n",
      "\n",
      "[77 rows x 2 columns]\n"
     ]
    }
   ],
   "execution_count": 4
  },
  {
   "metadata": {
    "ExecuteTime": {
     "end_time": "2024-10-25T15:15:43.375845Z",
     "start_time": "2024-10-25T15:15:43.367861Z"
    }
   },
   "cell_type": "code",
   "source": "order_df[order_df[\"week\"]==1]",
   "id": "1ac25cac18693525",
   "outputs": [
    {
     "data": {
      "text/plain": [
       "         type  sku    time  dock  batch  week  day\n",
       "0    delivery   59   86466     3      3     1    1\n",
       "1    delivery   68   86469     2      4     1    1\n",
       "2    delivery   20   86488     1      2     1    1\n",
       "3    delivery   18   86518     4      1     1    1\n",
       "4    delivery   59   86532     3      3     1    1\n",
       "..        ...  ...     ...   ...    ...   ...  ...\n",
       "591  delivery   18  103628     4      1     1    1\n",
       "592  delivery   18  103746     4      1     1    1\n",
       "593  delivery   18  103864     4      1     1    1\n",
       "594  delivery   18  103982     4      1     1    1\n",
       "595  delivery   18  104100     4      1     1    1\n",
       "\n",
       "[596 rows x 7 columns]"
      ],
      "text/html": [
       "<div>\n",
       "<style scoped>\n",
       "    .dataframe tbody tr th:only-of-type {\n",
       "        vertical-align: middle;\n",
       "    }\n",
       "\n",
       "    .dataframe tbody tr th {\n",
       "        vertical-align: top;\n",
       "    }\n",
       "\n",
       "    .dataframe thead th {\n",
       "        text-align: right;\n",
       "    }\n",
       "</style>\n",
       "<table border=\"1\" class=\"dataframe\">\n",
       "  <thead>\n",
       "    <tr style=\"text-align: right;\">\n",
       "      <th></th>\n",
       "      <th>type</th>\n",
       "      <th>sku</th>\n",
       "      <th>time</th>\n",
       "      <th>dock</th>\n",
       "      <th>batch</th>\n",
       "      <th>week</th>\n",
       "      <th>day</th>\n",
       "    </tr>\n",
       "  </thead>\n",
       "  <tbody>\n",
       "    <tr>\n",
       "      <th>0</th>\n",
       "      <td>delivery</td>\n",
       "      <td>59</td>\n",
       "      <td>86466</td>\n",
       "      <td>3</td>\n",
       "      <td>3</td>\n",
       "      <td>1</td>\n",
       "      <td>1</td>\n",
       "    </tr>\n",
       "    <tr>\n",
       "      <th>1</th>\n",
       "      <td>delivery</td>\n",
       "      <td>68</td>\n",
       "      <td>86469</td>\n",
       "      <td>2</td>\n",
       "      <td>4</td>\n",
       "      <td>1</td>\n",
       "      <td>1</td>\n",
       "    </tr>\n",
       "    <tr>\n",
       "      <th>2</th>\n",
       "      <td>delivery</td>\n",
       "      <td>20</td>\n",
       "      <td>86488</td>\n",
       "      <td>1</td>\n",
       "      <td>2</td>\n",
       "      <td>1</td>\n",
       "      <td>1</td>\n",
       "    </tr>\n",
       "    <tr>\n",
       "      <th>3</th>\n",
       "      <td>delivery</td>\n",
       "      <td>18</td>\n",
       "      <td>86518</td>\n",
       "      <td>4</td>\n",
       "      <td>1</td>\n",
       "      <td>1</td>\n",
       "      <td>1</td>\n",
       "    </tr>\n",
       "    <tr>\n",
       "      <th>4</th>\n",
       "      <td>delivery</td>\n",
       "      <td>59</td>\n",
       "      <td>86532</td>\n",
       "      <td>3</td>\n",
       "      <td>3</td>\n",
       "      <td>1</td>\n",
       "      <td>1</td>\n",
       "    </tr>\n",
       "    <tr>\n",
       "      <th>...</th>\n",
       "      <td>...</td>\n",
       "      <td>...</td>\n",
       "      <td>...</td>\n",
       "      <td>...</td>\n",
       "      <td>...</td>\n",
       "      <td>...</td>\n",
       "      <td>...</td>\n",
       "    </tr>\n",
       "    <tr>\n",
       "      <th>591</th>\n",
       "      <td>delivery</td>\n",
       "      <td>18</td>\n",
       "      <td>103628</td>\n",
       "      <td>4</td>\n",
       "      <td>1</td>\n",
       "      <td>1</td>\n",
       "      <td>1</td>\n",
       "    </tr>\n",
       "    <tr>\n",
       "      <th>592</th>\n",
       "      <td>delivery</td>\n",
       "      <td>18</td>\n",
       "      <td>103746</td>\n",
       "      <td>4</td>\n",
       "      <td>1</td>\n",
       "      <td>1</td>\n",
       "      <td>1</td>\n",
       "    </tr>\n",
       "    <tr>\n",
       "      <th>593</th>\n",
       "      <td>delivery</td>\n",
       "      <td>18</td>\n",
       "      <td>103864</td>\n",
       "      <td>4</td>\n",
       "      <td>1</td>\n",
       "      <td>1</td>\n",
       "      <td>1</td>\n",
       "    </tr>\n",
       "    <tr>\n",
       "      <th>594</th>\n",
       "      <td>delivery</td>\n",
       "      <td>18</td>\n",
       "      <td>103982</td>\n",
       "      <td>4</td>\n",
       "      <td>1</td>\n",
       "      <td>1</td>\n",
       "      <td>1</td>\n",
       "    </tr>\n",
       "    <tr>\n",
       "      <th>595</th>\n",
       "      <td>delivery</td>\n",
       "      <td>18</td>\n",
       "      <td>104100</td>\n",
       "      <td>4</td>\n",
       "      <td>1</td>\n",
       "      <td>1</td>\n",
       "      <td>1</td>\n",
       "    </tr>\n",
       "  </tbody>\n",
       "</table>\n",
       "<p>596 rows × 7 columns</p>\n",
       "</div>"
      ]
     },
     "execution_count": 45,
     "metadata": {},
     "output_type": "execute_result"
    }
   ],
   "execution_count": 45
  },
  {
   "metadata": {
    "ExecuteTime": {
     "end_time": "2024-10-25T15:15:28.079133Z",
     "start_time": "2024-10-25T15:15:28.066267Z"
    }
   },
   "cell_type": "code",
   "source": "order_df[order_df[\"week\"]==2]",
   "id": "4790ea1fdb6e404d",
   "outputs": [
    {
     "data": {
      "text/plain": [
       "            type  sku    time  dock  batch  week  day\n",
       "596    retrieval    6  172800    10      4     2    2\n",
       "597    retrieval    6  172800    10      4     2    2\n",
       "598    retrieval    6  172800    10      4     2    2\n",
       "599    retrieval    6  172800    10      4     2    2\n",
       "600    retrieval    6  172800    10      4     2    2\n",
       "...          ...  ...     ...   ...    ...   ...  ...\n",
       "32282   delivery   74  762699     1    107     2    8\n",
       "32283   delivery   74  762778     1    107     2    8\n",
       "32284   delivery   74  762857     1    107     2    8\n",
       "32285   delivery   74  762936     1    107     2    8\n",
       "32286   delivery   74  763015     1    107     2    8\n",
       "\n",
       "[31691 rows x 7 columns]"
      ],
      "text/html": [
       "<div>\n",
       "<style scoped>\n",
       "    .dataframe tbody tr th:only-of-type {\n",
       "        vertical-align: middle;\n",
       "    }\n",
       "\n",
       "    .dataframe tbody tr th {\n",
       "        vertical-align: top;\n",
       "    }\n",
       "\n",
       "    .dataframe thead th {\n",
       "        text-align: right;\n",
       "    }\n",
       "</style>\n",
       "<table border=\"1\" class=\"dataframe\">\n",
       "  <thead>\n",
       "    <tr style=\"text-align: right;\">\n",
       "      <th></th>\n",
       "      <th>type</th>\n",
       "      <th>sku</th>\n",
       "      <th>time</th>\n",
       "      <th>dock</th>\n",
       "      <th>batch</th>\n",
       "      <th>week</th>\n",
       "      <th>day</th>\n",
       "    </tr>\n",
       "  </thead>\n",
       "  <tbody>\n",
       "    <tr>\n",
       "      <th>596</th>\n",
       "      <td>retrieval</td>\n",
       "      <td>6</td>\n",
       "      <td>172800</td>\n",
       "      <td>10</td>\n",
       "      <td>4</td>\n",
       "      <td>2</td>\n",
       "      <td>2</td>\n",
       "    </tr>\n",
       "    <tr>\n",
       "      <th>597</th>\n",
       "      <td>retrieval</td>\n",
       "      <td>6</td>\n",
       "      <td>172800</td>\n",
       "      <td>10</td>\n",
       "      <td>4</td>\n",
       "      <td>2</td>\n",
       "      <td>2</td>\n",
       "    </tr>\n",
       "    <tr>\n",
       "      <th>598</th>\n",
       "      <td>retrieval</td>\n",
       "      <td>6</td>\n",
       "      <td>172800</td>\n",
       "      <td>10</td>\n",
       "      <td>4</td>\n",
       "      <td>2</td>\n",
       "      <td>2</td>\n",
       "    </tr>\n",
       "    <tr>\n",
       "      <th>599</th>\n",
       "      <td>retrieval</td>\n",
       "      <td>6</td>\n",
       "      <td>172800</td>\n",
       "      <td>10</td>\n",
       "      <td>4</td>\n",
       "      <td>2</td>\n",
       "      <td>2</td>\n",
       "    </tr>\n",
       "    <tr>\n",
       "      <th>600</th>\n",
       "      <td>retrieval</td>\n",
       "      <td>6</td>\n",
       "      <td>172800</td>\n",
       "      <td>10</td>\n",
       "      <td>4</td>\n",
       "      <td>2</td>\n",
       "      <td>2</td>\n",
       "    </tr>\n",
       "    <tr>\n",
       "      <th>...</th>\n",
       "      <td>...</td>\n",
       "      <td>...</td>\n",
       "      <td>...</td>\n",
       "      <td>...</td>\n",
       "      <td>...</td>\n",
       "      <td>...</td>\n",
       "      <td>...</td>\n",
       "    </tr>\n",
       "    <tr>\n",
       "      <th>32282</th>\n",
       "      <td>delivery</td>\n",
       "      <td>74</td>\n",
       "      <td>762699</td>\n",
       "      <td>1</td>\n",
       "      <td>107</td>\n",
       "      <td>2</td>\n",
       "      <td>8</td>\n",
       "    </tr>\n",
       "    <tr>\n",
       "      <th>32283</th>\n",
       "      <td>delivery</td>\n",
       "      <td>74</td>\n",
       "      <td>762778</td>\n",
       "      <td>1</td>\n",
       "      <td>107</td>\n",
       "      <td>2</td>\n",
       "      <td>8</td>\n",
       "    </tr>\n",
       "    <tr>\n",
       "      <th>32284</th>\n",
       "      <td>delivery</td>\n",
       "      <td>74</td>\n",
       "      <td>762857</td>\n",
       "      <td>1</td>\n",
       "      <td>107</td>\n",
       "      <td>2</td>\n",
       "      <td>8</td>\n",
       "    </tr>\n",
       "    <tr>\n",
       "      <th>32285</th>\n",
       "      <td>delivery</td>\n",
       "      <td>74</td>\n",
       "      <td>762936</td>\n",
       "      <td>1</td>\n",
       "      <td>107</td>\n",
       "      <td>2</td>\n",
       "      <td>8</td>\n",
       "    </tr>\n",
       "    <tr>\n",
       "      <th>32286</th>\n",
       "      <td>delivery</td>\n",
       "      <td>74</td>\n",
       "      <td>763015</td>\n",
       "      <td>1</td>\n",
       "      <td>107</td>\n",
       "      <td>2</td>\n",
       "      <td>8</td>\n",
       "    </tr>\n",
       "  </tbody>\n",
       "</table>\n",
       "<p>31691 rows × 7 columns</p>\n",
       "</div>"
      ]
     },
     "execution_count": 44,
     "metadata": {},
     "output_type": "execute_result"
    }
   ],
   "execution_count": 44
  },
  {
   "metadata": {
    "ExecuteTime": {
     "end_time": "2024-10-25T14:46:43.316201Z",
     "start_time": "2024-10-25T14:46:36.588223Z"
    }
   },
   "cell_type": "code",
   "source": [
    "def process_orders_by_week(orders, initial_fill):\n",
    "    # Create a DataFrame from the orders\n",
    "    order_columns = ['type', 'sku', 'time', 'dock', 'batch', 'week']\n",
    "    order_df = pd.DataFrame(orders, columns=order_columns)\n",
    "    order_df['day'] = order_df['time'] // (24 * 3600)\n",
    "    \n",
    "    # Initialize the fill levels from the initial fill data\n",
    "    fill_levels = initial_fill.copy()\n",
    "\n",
    "    # Store fill levels at the beginning of each week\n",
    "    weekly_fill_levels = {}\n",
    "\n",
    "    # Process orders week by week\n",
    "    for week in sorted(order_df['week'].unique()):\n",
    "        # Get orders for the current week\n",
    "        weekly_orders = order_df[order_df['week'] == week]\n",
    "        \n",
    "        # Store the fill level at the beginning of the week\n",
    "        weekly_fill_levels[week] = fill_levels.copy()\n",
    "        \n",
    "        # Process each order for the current week\n",
    "        for _, order in weekly_orders.iterrows():\n",
    "            order_type, sku = order['type'], str(order['sku'])\n",
    "            \n",
    "            # For delivery, increase the stock of the SKU\n",
    "            if order_type == \"delivery\":\n",
    "                fill_levels[sku] = fill_levels.get(sku, 0) + 1\n",
    "            # For retrieval, decrease the stock of the SKU\n",
    "            elif order_type == \"retrieval\":\n",
    "                fill_levels[sku] = fill_levels.get(sku, 0) - 1\n",
    "\n",
    "    return weekly_fill_levels, order_df\n",
    "\n",
    "# Process the orders and calculate weekly fill levels\n",
    "weekly_fill_levels, order_df = process_orders_by_week(orders, initial_fill)\n",
    "\n",
    "# Print the fill levels at the beginning of each week\n",
    "for week, fill in weekly_fill_levels.items():\n",
    "    print(f\"Week {week}: Fill levels: {fill}\")"
   ],
   "id": "5aece45ca78fdb08",
   "outputs": [
    {
     "name": "stdout",
     "output_type": "stream",
     "text": [
      "Week 1: Fill levels: {'1': 1, '2': 268, '3': 157, '4': 5, '6': 28, '7': 461, '8': 74, '9': 375, '10': 187, '11': 308, '12': 138, '17': 526, '18': 453, '20': 28, '21': 102, '23': 34, '24': 4, '25': 52, '26': 229, '27': 262, '28': 1154, '29': 271, '30': 611, '31': 62, '32': 36, '33': 961, '34': 85, '35': 270, '38': 278, '39': 268, '43': 469, '45': 4, '46': 11, '49': 39, '50': 83, '52': 10, '53': 1095, '54': 2, '57': 202, '58': 36, '59': 88, '61': 203, '62': 1857, '63': 246, '64': 179, '65': 39, '67': 126, '68': 484, '69': 3, '70': 12, '72': 6, '73': 3, '75': 2, '78': 218, '79': 659, '81': 1, '82': 3, '83': 27, '84': 10, '85': 42, '86': 22, '89': 73}\n",
      "Week 2: Fill levels: {'1': 1, '2': 268, '3': 157, '4': 5, '6': 28, '7': 461, '8': 74, '9': 375, '10': 187, '11': 308, '12': 138, '17': 526, '18': 603, '20': 166, '21': 102, '23': 34, '24': 4, '25': 52, '26': 229, '27': 262, '28': 1154, '29': 271, '30': 611, '31': 62, '32': 36, '33': 961, '34': 85, '35': 270, '38': 278, '39': 268, '43': 469, '45': 4, '46': 11, '49': 39, '50': 83, '52': 10, '53': 1095, '54': 2, '57': 202, '58': 36, '59': 255, '61': 203, '62': 1857, '63': 246, '64': 179, '65': 39, '67': 126, '68': 625, '69': 3, '70': 12, '72': 6, '73': 3, '75': 2, '78': 218, '79': 659, '81': 1, '82': 3, '83': 27, '84': 10, '85': 42, '86': 22, '89': 73}\n",
      "Week 3: Fill levels: {'1': 1, '2': 163, '3': 110, '4': 5, '6': 1, '7': 9, '8': 0, '9': 38, '10': 22, '11': 36, '12': 0, '17': 159, '18': 1226, '20': 1201, '21': 1, '23': 34, '24': 4, '25': 32, '26': 120, '27': 94, '28': 702, '29': 347, '30': 313, '31': 62, '32': 16, '33': 919, '34': 85, '35': 0, '38': 1376, '39': 414, '43': 1500, '45': 4, '46': 11, '49': 35, '50': 102, '52': 10, '53': 501, '54': 2, '57': 0, '58': 2, '59': 1151, '61': 203, '62': 830, '63': 32, '64': 0, '65': 39, '67': 73, '68': 232, '69': 3, '70': 12, '72': 650, '73': 3, '75': 2, '78': 185, '79': 461, '81': 39, '82': 2, '83': 89, '84': 10, '85': 41, '86': 22, '89': 71, '60': 397, '87': 0, '93': 17, '41': 5, '47': 0, '51': 0, '90': 0, '94': 192, '74': 2153, '88': 0}\n",
      "Week 4: Fill levels: {'1': 1, '2': 30, '3': 32, '4': 5, '6': 10, '7': 213, '8': 0, '9': 1546, '10': 228, '11': 1765, '12': 0, '17': 27, '18': 66, '20': 575, '21': 239, '23': 34, '24': 4, '25': 32, '26': 86, '27': 26, '28': 191, '29': 327, '30': 435, '31': 462, '32': 13, '33': 695, '34': 85, '35': 1, '38': 944, '39': 1, '43': 453, '45': 4, '46': 11, '49': 32, '50': 128, '52': 10, '53': 270, '54': 2, '57': 0, '58': 2, '59': 593, '61': 0, '62': 2079, '63': 704, '64': 0, '65': 20, '67': 30, '68': 0, '69': 3, '70': 12, '72': 537, '73': 3, '75': 2, '78': 118, '79': 395, '81': 30, '82': 9, '83': 68, '84': 10, '85': 26, '86': 21, '89': 71, '60': 141, '87': 0, '93': 17, '41': 5, '47': 0, '51': 0, '90': 0, '94': 104, '74': 1005, '88': 0, '5': 52, '92': 0, '95': 55, '96': 158, '97': 395, '16': 144, '76': 137, '98': 0, '99': 278, '100': 245, '101': 125}\n",
      "Week 5: Fill levels: {'1': 1, '2': 425, '3': 441, '4': 5, '6': 8, '7': 870, '8': 186, '9': 1041, '10': 141, '11': 692, '12': 312, '17': 0, '18': 1, '20': 14, '21': 0, '23': 34, '24': 4, '25': 20, '26': 216, '27': 465, '28': 786, '29': 490, '30': 527, '31': 461, '32': 9, '33': 647, '34': 85, '35': 1, '38': 677, '39': 733, '43': 68, '45': 3, '46': 11, '49': 32, '50': 94, '52': 10, '53': 138, '54': 2, '57': 0, '58': 443, '59': 858, '61': 0, '62': 1645, '63': 343, '64': 0, '65': 10, '67': 20, '68': 2138, '69': 3, '70': 12, '72': 186, '73': 3, '75': 2, '78': 71, '79': 197, '81': 57, '82': 7, '83': 126, '84': 10, '85': 12, '86': 21, '89': 69, '60': 0, '87': 0, '93': 17, '41': 5, '47': 0, '51': 0, '90': 0, '94': 59, '74': 0, '88': 0, '5': 19, '92': 0, '95': 4, '96': 158, '97': 0, '16': 144, '76': 157, '98': 0, '99': 0, '100': 0, '101': 92, '22': 0, '91': 0, '102': 54, '103': 20, '104': 97, '105': 100, '106': 184, '37': 136}\n",
      "Week 6: Fill levels: {'1': 1, '2': 206, '3': 389, '4': 5, '6': 4, '7': 667, '8': 0, '9': 385, '10': 20, '11': 48, '12': 186, '17': 1716, '18': 1, '20': 1622, '21': 0, '23': 34, '24': 4, '25': 20, '26': 182, '27': 465, '28': 453, '29': 264, '30': 230, '31': 295, '32': 6, '33': 594, '34': 85, '35': 1, '38': 299, '39': 441, '43': 0, '45': 36, '46': 11, '49': 31, '50': 116, '52': 10, '53': 6, '54': 2, '57': 0, '58': 244, '59': 577, '61': 0, '62': 909, '63': 69, '64': 0, '65': 51, '67': 0, '68': 1221, '69': 3, '70': 12, '72': 585, '73': 3, '75': 19, '78': 284, '79': 713, '81': 50, '82': 32, '83': 102, '84': 10, '85': 28, '86': 21, '89': 65, '60': 245, '87': 0, '93': 17, '41': 5, '47': 0, '51': 0, '90': 0, '94': 2, '74': 3, '88': 0, '5': 19, '92': 0, '95': 58, '96': 76, '97': 0, '16': 16, '76': 0, '98': 0, '99': 425, '100': 0, '101': 73, '22': 0, '91': 0, '102': 27, '103': 20, '104': 77, '105': 100, '106': 84, '37': 34, '107': 760, '108': 929, '56': 592, '109': 0}\n",
      "Week 7: Fill levels: {'1': 1, '2': 369, '3': 647, '4': 5, '6': 2, '7': 333, '8': 67, '9': 1416, '10': 311, '11': 708, '12': 16, '17': 1096, '18': 1, '20': 903, '21': 420, '23': 34, '24': 4, '25': 20, '26': 149, '27': 227, '28': 266, '29': 259, '30': 639, '31': 98, '32': 6, '33': 594, '34': 85, '35': 1, '38': 0, '39': 0, '43': 0, '45': 32, '46': 11, '49': 31, '50': 89, '52': 10, '53': 6, '54': 2, '57': 55, '58': 213, '59': 554, '61': 0, '62': 841, '63': 808, '64': 0, '65': 9, '67': 0, '68': 432, '69': 3, '70': 12, '72': 382, '73': 3, '75': 0, '78': 284, '79': 53, '81': 53, '82': 26, '83': 77, '84': 10, '85': 57, '86': 21, '89': 61, '60': 975, '87': 0, '93': 17, '41': 5, '47': 0, '51': 0, '90': 0, '94': 264, '74': 7, '88': 0, '5': 19, '92': 5, '95': 3, '96': 14, '97': 6, '16': 0, '76': 0, '98': 179, '99': 0, '100': 0, '101': 73, '22': 0, '91': 18, '102': 16, '103': 9, '104': 41, '105': 100, '106': 84, '37': 0, '107': 116, '108': 286, '56': 167, '109': 0, '66': 0, '110': 10, '80': 0, '111': 227}\n",
      "Week 8: Fill levels: {'1': 1, '2': 116, '3': 541, '4': 5, '6': 43, '7': 113, '8': 0, '9': 1362, '10': 244, '11': 506, '12': 16, '17': 590, '18': 1, '20': 514, '21': 162, '23': 34, '24': 4, '25': 20, '26': 149, '27': 23, '28': 789, '29': 312, '30': 948, '31': 98, '32': 6, '33': 594, '34': 53, '35': 1, '38': 614, '39': 546, '43': 412, '45': 30, '46': 11, '49': 31, '50': 75, '52': 10, '53': 6, '54': 2, '57': 224, '58': 213, '59': 438, '61': 0, '62': 559, '63': 707, '64': 0, '65': 59, '67': 0, '68': 969, '69': 3, '70': 12, '72': 228, '73': 3, '75': 200, '78': 251, '79': 20, '81': 44, '82': 25, '83': 58, '84': 10, '85': 44, '86': 21, '89': 59, '60': 281, '87': 0, '93': 17, '41': 5, '47': 0, '51': 0, '90': 1, '94': 232, '74': 430, '88': 0, '5': 298, '92': 0, '95': 179, '96': 14, '97': 476, '16': 0, '76': 316, '98': 0, '99': 164, '100': 120, '101': 73, '22': 0, '91': 0, '102': 40, '103': 5, '104': 30, '105': 100, '106': 84, '37': 0, '107': 1, '108': 1, '56': 65, '109': 0, '66': 0, '110': 10, '80': 0, '111': 162, '19': 34, '112': 0}\n",
      "Week 9: Fill levels: {'1': 1, '2': 1046, '3': 474, '4': 5, '6': 41, '7': 0, '8': 0, '9': 1019, '10': 118, '11': 30, '12': 16, '17': 150, '18': 1, '20': 151, '21': 0, '23': 34, '24': 4, '25': 20, '26': 233, '27': 107, '28': 991, '29': 854, '30': 783, '31': 98, '32': 6, '33': 571, '34': 53, '35': 1, '38': 509, '39': 542, '43': 114, '45': 25, '46': 11, '49': 31, '50': 81, '52': 10, '53': 6, '54': 2, '57': 0, '58': 132, '59': 328, '61': 70, '62': 758, '63': 580, '64': 0, '65': 69, '67': 1, '68': 632, '69': 3, '70': 12, '72': 649, '73': 3, '75': 107, '78': 241, '79': 178, '81': 52, '82': 21, '83': 58, '84': 10, '85': 41, '86': 21, '89': 54, '60': 0, '87': 0, '93': 17, '41': 5, '47': 0, '51': 0, '90': 0, '94': 168, '74': 0, '88': 0, '5': 0, '92': 0, '95': 169, '96': 14, '97': 0, '16': 0, '76': 0, '98': 0, '99': 0, '100': 78, '101': 73, '22': 0, '91': 0, '102': 24, '103': 81, '104': 118, '105': 100, '106': 84, '37': 0, '107': 1, '108': 1, '56': 0, '109': 1, '66': 0, '110': 10, '80': 0, '111': 0, '19': 0, '112': 0, '113': 224, '114': 0, '116': 2012, '115': 1614}\n",
      "Week 10: Fill levels: {'1': 1, '2': 1097, '3': 462, '4': 5, '6': 14, '7': 0, '8': 0, '9': 911, '10': 118, '11': 30, '12': 16, '17': 96, '18': 1, '20': 151, '21': 0, '23': 34, '24': 4, '25': 20, '26': 0, '27': 40, '28': 807, '29': 1019, '30': 2260, '31': 1, '32': 5, '33': 481, '34': 28, '35': 1, '38': 80, '39': 236, '43': 1041, '45': 25, '46': 11, '49': 30, '50': 81, '52': 10, '53': 6, '54': 2, '57': 304, '58': 121, '59': 1117, '61': 0, '62': 686, '63': 462, '64': 338, '65': 59, '67': 0, '68': 1711, '69': 3, '70': 12, '72': 362, '73': 3, '75': 36, '78': 234, '79': 13, '81': 65, '82': 21, '83': 61, '84': 10, '85': 30, '86': 21, '89': 54, '60': 0, '87': 0, '93': 17, '41': 5, '47': 0, '51': 0, '90': 0, '94': 166, '74': 0, '88': 0, '5': 0, '92': 0, '95': 166, '96': 0, '97': 138, '16': 0, '76': 442, '98': 0, '99': 174, '100': 423, '101': 39, '22': 0, '91': 0, '102': 2, '103': 77, '104': 118, '105': 0, '106': 84, '37': 0, '107': 1, '108': 1, '56': 0, '109': 1, '66': 0, '110': 10, '80': 0, '111': 0, '19': 0, '112': 0, '113': 60, '114': 0, '116': 793, '115': 1414, '117': 0}\n",
      "Week 11: Fill levels: {'1': 1, '2': 1004, '3': 434, '4': 5, '6': 73, '7': 0, '8': 0, '9': 623, '10': 105, '11': 34, '12': 16, '17': 1, '18': 1, '20': 151, '21': 873, '23': 34, '24': 4, '25': 20, '26': 0, '27': 6, '28': 868, '29': 971, '30': 619, '31': 1, '32': 35, '33': 1320, '34': 28, '35': 1, '38': 0, '39': 0, '43': 388, '45': 25, '46': 11, '49': 28, '50': 71, '52': 10, '53': 6, '54': 2, '57': 143, '58': 119, '59': 1001, '61': 0, '62': 505, '63': 276, '64': 51, '65': 59, '67': 190, '68': 1788, '69': 3, '70': 12, '72': 146, '73': 3, '75': 36, '78': 220, '79': 451, '81': 57, '82': 21, '83': 80, '84': 10, '85': 29, '86': 21, '89': 54, '60': 0, '87': 0, '93': 17, '41': 5, '47': 0, '51': 0, '90': 0, '94': 155, '74': 0, '88': 0, '5': 2, '92': 0, '95': 162, '96': 0, '97': 35, '16': 0, '76': 239, '98': 0, '99': 0, '100': 0, '101': 39, '22': 0, '91': 0, '102': 2, '103': 77, '104': 118, '105': 0, '106': 84, '37': 339, '107': 1, '108': 1, '56': 274, '109': 0, '66': 8, '110': 10, '80': 0, '111': 0, '19': 0, '112': 0, '113': 0, '114': 0, '116': 1, '115': 1135, '117': 0, '13': 959, '118': 735, '119': 1046, '14': 121, '77': 0, '120': 651, '121': 11}\n",
      "Week 12: Fill levels: {'1': 1, '2': 799, '3': 425, '4': 5, '6': 81, '7': 0, '8': 0, '9': 151, '10': 98, '11': 0, '12': 16, '17': 0, '18': 1, '20': 151, '21': 251, '23': 34, '24': 4, '25': 20, '26': 0, '27': 6, '28': 914, '29': 847, '30': 928, '31': 1, '32': 35, '33': 502, '34': 28, '35': 1, '38': 949, '39': 606, '43': 67, '45': 24, '46': 11, '49': 49, '50': 64, '52': 10, '53': 6, '54': 2, '57': 97, '58': 73, '59': 834, '61': 0, '62': 1563, '63': 109, '64': 0, '65': 36, '67': 88, '68': 827, '69': 3, '70': 12, '72': 29, '73': 3, '75': 32, '78': 485, '79': 88, '81': 43, '82': 54, '83': 54, '84': 10, '85': 26, '86': 21, '89': 54, '60': 0, '87': 0, '93': 17, '41': 5, '47': 0, '51': 0, '90': 0, '94': 108, '74': 0, '88': 0, '5': 2, '92': 0, '95': 160, '96': 0, '97': 0, '16': 0, '76': 103, '98': 0, '99': 0, '100': 0, '101': 39, '22': 0, '91': 0, '102': 20, '103': 76, '104': 106, '105': 0, '106': 84, '37': 68, '107': 1, '108': 1, '56': 206, '109': 0, '66': 0, '110': 10, '80': 0, '111': 0, '19': 0, '112': 0, '113': 0, '114': 0, '116': 1, '115': 614, '117': 0, '13': 233, '118': 229, '119': 0, '14': 0, '77': 0, '120': 157, '121': 419, '122': 304, '123': 1365, '71': 2, '124': 2, '125': 802}\n",
      "Week 13: Fill levels: {'1': 1, '2': 573, '3': 416, '4': 5, '6': 75, '7': 0, '8': 0, '9': 1240, '10': 307, '11': 0, '12': 736, '17': 0, '18': 1, '20': 151, '21': 14, '23': 34, '24': 4, '25': 20, '26': 0, '27': 6, '28': 1532, '29': 564, '30': 805, '31': 1, '32': 26, '33': 179, '34': 28, '35': 1, '38': 269, '39': 545, '43': 610, '45': 24, '46': 11, '49': 44, '50': 48, '52': 10, '53': 6, '54': 2, '57': 34, '58': 255, '59': 660, '61': 0, '62': 831, '63': 10, '64': 0, '65': 34, '67': 218, '68': 1412, '69': 3, '70': 12, '72': 32, '73': 3, '75': 32, '78': 435, '79': 22, '81': 24, '82': 53, '83': 34, '84': 10, '85': 26, '86': 21, '89': 53, '60': 0, '87': 0, '93': 17, '41': 5, '47': 0, '51': 0, '90': 0, '94': 348, '74': 0, '88': 0, '5': 2, '92': 0, '95': 152, '96': 0, '97': 0, '16': 0, '76': 1, '98': 0, '99': 0, '100': 5, '101': 39, '22': 0, '91': 0, '102': 24, '103': 70, '104': 84, '105': 0, '106': 84, '37': 34, '107': 1, '108': 1, '56': 8, '109': 0, '66': 0, '110': 10, '80': 0, '111': 0, '19': 0, '112': 0, '113': 303, '114': 4, '116': 1, '115': 185, '117': 0, '13': 167, '118': 229, '119': 0, '14': 0, '77': 0, '120': 0, '121': 231, '122': 302, '123': 740, '71': 2, '124': 2, '125': 802, '126': 690, '127': 0, '128': 424}\n",
      "Week 14: Fill levels: {'1': 1, '2': 366, '3': 336, '4': 5, '6': 35, '7': 0, '8': 0, '9': 869, '10': 317, '11': 0, '12': 158, '17': 0, '18': 1, '20': 151, '21': 0, '23': 34, '24': 4, '25': 20, '26': 0, '27': 6, '28': 789, '29': 446, '30': 63, '31': 1, '32': 18, '33': 55, '34': 28, '35': 1, '38': 0, '39': 312, '43': 210, '45': 21, '46': 11, '49': 33, '50': 59, '52': 10, '53': 901, '54': 2, '57': 10, '58': 200, '59': 449, '61': 0, '62': 1507, '63': 385, '64': 337, '65': 48, '67': 151, '68': 505, '69': 3, '70': 12, '72': 2, '73': 3, '75': 29, '78': 413, '79': 1145, '81': 49, '82': 52, '83': 45, '84': 10, '85': 48, '86': 21, '89': 51, '60': 0, '87': 0, '93': 17, '41': 5, '47': 0, '51': 0, '90': 0, '94': 310, '74': 0, '88': 0, '5': 209, '92': 0, '95': 146, '96': 0, '97': 0, '16': 0, '76': 11, '98': 0, '99': 0, '100': 0, '101': 25, '22': 0, '91': 0, '102': 5, '103': 66, '104': 69, '105': 0, '106': 84, '37': 0, '107': 1, '108': 1, '56': 8, '109': 0, '66': 0, '110': 10, '80': 0, '111': 0, '19': 170, '112': 0, '113': 179, '114': 0, '116': 1, '115': 1072, '117': 0, '13': 0, '118': 59, '119': 0, '14': 0, '77': 0, '120': 0, '121': 66, '122': 298, '123': 678, '71': 2, '124': 2, '125': 485, '126': 416, '127': 0, '128': 0, '129': 68, '130': 997, '131': 0, '132': 319}\n"
     ]
    }
   ],
   "execution_count": 23
  },
  {
   "metadata": {
    "ExecuteTime": {
     "end_time": "2024-10-25T15:31:40.102795Z",
     "start_time": "2024-10-25T15:31:39.145268Z"
    }
   },
   "cell_type": "code",
   "source": [
    "import matplotlib.pyplot as plt\n",
    "\n",
    "# Function to visualize hourly stock movements (deliveries and retrievals)\n",
    "def visualize_hourly_stock_movements(weekly_fill_levels, order_df, week=1):\n",
    "    # Filter the orders for the given week and get the unique hours within this week\n",
    "    first_week_orders = order_df[order_df['week'] == week]\n",
    "    first_week_orders['hour'] = order_df['time'] // 3600  # Convert time to hours\n",
    "    hours_in_week = sorted(first_week_orders['hour'].unique())\n",
    "\n",
    "    # Initialize fill levels for aggregation at the start of the week\n",
    "    fill_levels_at_start = weekly_fill_levels[week].copy()\n",
    "\n",
    "    # Store the hourly changes in stock\n",
    "    hourly_delivery_movements = []\n",
    "    hourly_retrieval_movements = []\n",
    "    \n",
    "    # Process each hour within the week\n",
    "    for hour in hours_in_week:\n",
    "        hour_orders = first_week_orders[first_week_orders['hour'] == hour]\n",
    "\n",
    "        # Track delivery and retrieval counts for the hour\n",
    "        hourly_deliveries = 0\n",
    "        hourly_retrievals = 0\n",
    "\n",
    "        # Process each order within the hour\n",
    "        for _, order in hour_orders.iterrows():\n",
    "            order_type, sku = order['type'], str(order['sku'])\n",
    "            if order_type == \"delivery\":\n",
    "                hourly_deliveries += 1\n",
    "                fill_levels_at_start[sku] = fill_levels_at_start.get(sku, 0) + 1\n",
    "            elif order_type == \"retrieval\":\n",
    "                hourly_retrievals += 1\n",
    "                fill_levels_at_start[sku] = fill_levels_at_start.get(sku, 0) - 1\n",
    "\n",
    "        # Append the hourly movements (deliveries and retrievals)\n",
    "        hourly_delivery_movements.append(hourly_deliveries)\n",
    "        hourly_retrieval_movements.append(hourly_retrievals)\n",
    "    \n",
    "    # Plot the hourly stock movements (deliveries and retrievals)\n",
    "    plt.figure(figsize=(14, 6))\n",
    "    plt.plot(hours_in_week, hourly_delivery_movements, label=\"Hourly Deliveries\", color='g', marker='o')\n",
    "    plt.plot(hours_in_week, hourly_retrieval_movements, label=\"Hourly Retrievals\", color='r', marker='o')\n",
    "\n",
    "    plt.title(\"Hourly Stock Movements (Deliveries and Retrievals) - First Week\")\n",
    "    plt.xlabel(\"Hour\")\n",
    "    plt.ylabel(\"Number of Movements\")\n",
    "    plt.legend(loc='upper right')\n",
    "    plt.grid(True)\n",
    "    plt.show()\n",
    "\n",
    "# Example usage:\n",
    "# Call visualize_hourly_stock_movements with the data processed\n",
    "visualize_hourly_stock_movements(weekly_fill_levels, order_df, week=4)\n"
   ],
   "id": "9d235905694fabf8",
   "outputs": [
    {
     "name": "stderr",
     "output_type": "stream",
     "text": [
      "C:\\Users\\zm0714\\AppData\\Local\\Temp\\ipykernel_28940\\812140238.py:7: SettingWithCopyWarning: \n",
      "A value is trying to be set on a copy of a slice from a DataFrame.\n",
      "Try using .loc[row_indexer,col_indexer] = value instead\n",
      "\n",
      "See the caveats in the documentation: https://pandas.pydata.org/pandas-docs/stable/user_guide/indexing.html#returning-a-view-versus-a-copy\n",
      "  first_week_orders['hour'] = order_df['time'] // 3600  # Convert time to hours\n"
     ]
    },
    {
     "data": {
      "text/plain": [
       "<Figure size 1400x600 with 1 Axes>"
      ],
      "image/png": "[encoded data removed]"
     },
     "metadata": {},
     "output_type": "display_data"
    }
   ],
   "execution_count": 58
  },
  {
   "metadata": {
    "ExecuteTime": {
     "end_time": "2024-10-25T15:06:43.732995Z",
     "start_time": "2024-10-25T15:06:43.690228Z"
    }
   },
   "cell_type": "code",
   "source": "order_df.groupby(by=\"week\").count() ",
   "id": "11cf7e851294952f",
   "outputs": [
    {
     "data": {
      "text/plain": [
       "       type    sku   time   dock  batch    day\n",
       "week                                          \n",
       "1       596    596    596    596    596    596\n",
       "2     31691  31691  31691  31691  31691  31691\n",
       "3     34610  34610  34610  34610  34610  34610\n",
       "4     37134  37134  37134  37134  37134  37134\n",
       "5     36978  36978  36978  36978  36978  36978\n",
       "6     36668  36668  36668  36668  36668  36668\n",
       "7     33250  33250  33250  33250  33250  33250\n",
       "8     32453  32453  32453  32453  32453  32453\n",
       "9     28102  28102  28102  28102  28102  28102\n",
       "10    30229  30229  30229  30229  30229  30229\n",
       "11    31837  31837  31837  31837  31837  31837\n",
       "12    30341  30341  30341  30341  30341  30341\n",
       "13    29108  29108  29108  29108  29108  29108\n",
       "14    18833  18833  18833  18833  18833  18833"
      ],
      "text/html": [
       "<div>\n",
       "<style scoped>\n",
       "    .dataframe tbody tr th:only-of-type {\n",
       "        vertical-align: middle;\n",
       "    }\n",
       "\n",
       "    .dataframe tbody tr th {\n",
       "        vertical-align: top;\n",
       "    }\n",
       "\n",
       "    .dataframe thead th {\n",
       "        text-align: right;\n",
       "    }\n",
       "</style>\n",
       "<table border=\"1\" class=\"dataframe\">\n",
       "  <thead>\n",
       "    <tr style=\"text-align: right;\">\n",
       "      <th></th>\n",
       "      <th>type</th>\n",
       "      <th>sku</th>\n",
       "      <th>time</th>\n",
       "      <th>dock</th>\n",
       "      <th>batch</th>\n",
       "      <th>day</th>\n",
       "    </tr>\n",
       "    <tr>\n",
       "      <th>week</th>\n",
       "      <th></th>\n",
       "      <th></th>\n",
       "      <th></th>\n",
       "      <th></th>\n",
       "      <th></th>\n",
       "      <th></th>\n",
       "    </tr>\n",
       "  </thead>\n",
       "  <tbody>\n",
       "    <tr>\n",
       "      <th>1</th>\n",
       "      <td>596</td>\n",
       "      <td>596</td>\n",
       "      <td>596</td>\n",
       "      <td>596</td>\n",
       "      <td>596</td>\n",
       "      <td>596</td>\n",
       "    </tr>\n",
       "    <tr>\n",
       "      <th>2</th>\n",
       "      <td>31691</td>\n",
       "      <td>31691</td>\n",
       "      <td>31691</td>\n",
       "      <td>31691</td>\n",
       "      <td>31691</td>\n",
       "      <td>31691</td>\n",
       "    </tr>\n",
       "    <tr>\n",
       "      <th>3</th>\n",
       "      <td>34610</td>\n",
       "      <td>34610</td>\n",
       "      <td>34610</td>\n",
       "      <td>34610</td>\n",
       "      <td>34610</td>\n",
       "      <td>34610</td>\n",
       "    </tr>\n",
       "    <tr>\n",
       "      <th>4</th>\n",
       "      <td>37134</td>\n",
       "      <td>37134</td>\n",
       "      <td>37134</td>\n",
       "      <td>37134</td>\n",
       "      <td>37134</td>\n",
       "      <td>37134</td>\n",
       "    </tr>\n",
       "    <tr>\n",
       "      <th>5</th>\n",
       "      <td>36978</td>\n",
       "      <td>36978</td>\n",
       "      <td>36978</td>\n",
       "      <td>36978</td>\n",
       "      <td>36978</td>\n",
       "      <td>36978</td>\n",
       "    </tr>\n",
       "    <tr>\n",
       "      <th>6</th>\n",
       "      <td>36668</td>\n",
       "      <td>36668</td>\n",
       "      <td>36668</td>\n",
       "      <td>36668</td>\n",
       "      <td>36668</td>\n",
       "      <td>36668</td>\n",
       "    </tr>\n",
       "    <tr>\n",
       "      <th>7</th>\n",
       "      <td>33250</td>\n",
       "      <td>33250</td>\n",
       "      <td>33250</td>\n",
       "      <td>33250</td>\n",
       "      <td>33250</td>\n",
       "      <td>33250</td>\n",
       "    </tr>\n",
       "    <tr>\n",
       "      <th>8</th>\n",
       "      <td>32453</td>\n",
       "      <td>32453</td>\n",
       "      <td>32453</td>\n",
       "      <td>32453</td>\n",
       "      <td>32453</td>\n",
       "      <td>32453</td>\n",
       "    </tr>\n",
       "    <tr>\n",
       "      <th>9</th>\n",
       "      <td>28102</td>\n",
       "      <td>28102</td>\n",
       "      <td>28102</td>\n",
       "      <td>28102</td>\n",
       "      <td>28102</td>\n",
       "      <td>28102</td>\n",
       "    </tr>\n",
       "    <tr>\n",
       "      <th>10</th>\n",
       "      <td>30229</td>\n",
       "      <td>30229</td>\n",
       "      <td>30229</td>\n",
       "      <td>30229</td>\n",
       "      <td>30229</td>\n",
       "      <td>30229</td>\n",
       "    </tr>\n",
       "    <tr>\n",
       "      <th>11</th>\n",
       "      <td>31837</td>\n",
       "      <td>31837</td>\n",
       "      <td>31837</td>\n",
       "      <td>31837</td>\n",
       "      <td>31837</td>\n",
       "      <td>31837</td>\n",
       "    </tr>\n",
       "    <tr>\n",
       "      <th>12</th>\n",
       "      <td>30341</td>\n",
       "      <td>30341</td>\n",
       "      <td>30341</td>\n",
       "      <td>30341</td>\n",
       "      <td>30341</td>\n",
       "      <td>30341</td>\n",
       "    </tr>\n",
       "    <tr>\n",
       "      <th>13</th>\n",
       "      <td>29108</td>\n",
       "      <td>29108</td>\n",
       "      <td>29108</td>\n",
       "      <td>29108</td>\n",
       "      <td>29108</td>\n",
       "      <td>29108</td>\n",
       "    </tr>\n",
       "    <tr>\n",
       "      <th>14</th>\n",
       "      <td>18833</td>\n",
       "      <td>18833</td>\n",
       "      <td>18833</td>\n",
       "      <td>18833</td>\n",
       "      <td>18833</td>\n",
       "      <td>18833</td>\n",
       "    </tr>\n",
       "  </tbody>\n",
       "</table>\n",
       "</div>"
      ]
     },
     "execution_count": 39,
     "metadata": {},
     "output_type": "execute_result"
    }
   ],
   "execution_count": 39
  },
  {
   "cell_type": "code",
   "id": "b8cbf160e5aba015",
   "metadata": {
    "collapsed": false,
    "ExecuteTime": {
     "end_time": "2024-10-25T14:56:17.421273Z",
     "start_time": "2024-10-25T14:56:17.414974Z"
    }
   },
   "source": [
    "i = 0\n",
    "print(len(orders))\n",
    "orders_new = []\n",
    "for order in orders:\n",
    "    if i < 20000:\n",
    "        orders_new.append(order)\n",
    "    else:\n",
    "        break\n",
    "    i += 1"
   ],
   "outputs": [
    {
     "name": "stdout",
     "output_type": "stream",
     "text": [
      "411830\n"
     ]
    }
   ],
   "execution_count": 32
  },
  {
   "cell_type": "code",
   "id": "326d5def76e29215",
   "metadata": {
    "collapsed": false,
    "ExecuteTime": {
     "end_time": "2024-09-24T07:40:17.359807Z",
     "start_time": "2024-09-24T07:40:17.355200Z"
    }
   },
   "source": [
    "len(orders_new)"
   ],
   "outputs": [
    {
     "data": {
      "text/plain": [
       "20000"
      ]
     },
     "execution_count": 22,
     "metadata": {},
     "output_type": "execute_result"
    }
   ],
   "execution_count": 22
  },
  {
   "cell_type": "code",
   "id": "e84c4c0106e0c82f",
   "metadata": {
    "collapsed": false,
    "ExecuteTime": {
     "end_time": "2024-09-22T13:58:59.205480Z",
     "start_time": "2024-09-22T13:58:59.201874Z"
    }
   },
   "source": [
    "#del orders_new[300000:320000]"
   ],
   "outputs": [],
   "execution_count": 18
  },
  {
   "cell_type": "code",
   "id": "dd96bac2ac307e76",
   "metadata": {
    "collapsed": false,
    "ExecuteTime": {
     "end_time": "2024-09-24T07:41:21.077438Z",
     "start_time": "2024-09-24T07:41:19.751409Z"
    }
   },
   "source": [
    "json.dump(orders_new, open(\"../1_environment/slapstack/slapstack/use_cases/wepastacks_bm/2_orders.json\", \"w\"))"
   ],
   "outputs": [],
   "execution_count": 26
  },
  {
   "metadata": {
    "ExecuteTime": {
     "end_time": "2024-10-26T18:38:46.811547Z",
     "start_time": "2024-10-26T18:38:46.807421Z"
    }
   },
   "cell_type": "code",
   "source": "use_case = \"wepastacks\"",
   "id": "791b3b0acde30173",
   "outputs": [],
   "execution_count": 69
  },
  {
   "cell_type": "code",
   "id": "9b6e9b672e1d06d9",
   "metadata": {
    "collapsed": false,
    "ExecuteTime": {
     "end_time": "2024-10-26T18:38:47.137338Z",
     "start_time": "2024-10-26T18:38:47.125853Z"
    }
   },
   "source": "layout = pd.read_csv(f\"../1_environment/slapstack/slapstack/use_cases/{use_case}/1_layout.csv\", header=None, delimiter=\",\")",
   "outputs": [],
   "execution_count": 70
  },
  {
   "cell_type": "code",
   "id": "a13882b197fa74fb",
   "metadata": {
    "collapsed": false,
    "ExecuteTime": {
     "end_time": "2024-10-26T18:38:47.852389Z",
     "start_time": "2024-10-26T18:38:47.847586Z"
    }
   },
   "source": [
    "layout.dropna(axis=1, how='all', inplace=True)"
   ],
   "outputs": [],
   "execution_count": 71
  },
  {
   "cell_type": "code",
   "id": "297b233f5fc8ab91",
   "metadata": {
    "collapsed": false,
    "ExecuteTime": {
     "end_time": "2024-10-26T18:38:48.416629Z",
     "start_time": "2024-10-26T18:38:48.254423Z"
    }
   },
   "source": [
    "plt.imshow(layout)"
   ],
   "outputs": [
    {
     "data": {
      "text/plain": [
       "<matplotlib.image.AxesImage at 0x2609a0a18d0>"
      ]
     },
     "execution_count": 72,
     "metadata": {},
     "output_type": "execute_result"
    },
    {
     "data": {
      "text/plain": [
       "<Figure size 640x480 with 1 Axes>"
      ],
      "image/png": "[encoded data removed]"
     },
     "metadata": {},
     "output_type": "display_data"
    }
   ],
   "execution_count": 72
  },
  {
   "cell_type": "code",
   "id": "2c10be4649083bb5",
   "metadata": {
    "collapsed": false,
    "ExecuteTime": {
     "end_time": "2024-10-26T18:38:51.051222Z",
     "start_time": "2024-10-26T18:38:51.042351Z"
    }
   },
   "source": [
    "def gen_charging_stations(layout, n_cs):\n",
    "    charging_locs = [len(layout.columns) * i // (n_cs + 1) for i in range(1, n_cs + 1)]\n",
    "    aisle = pd.DataFrame({i: -1 if i == 0 or i == len(layout.columns)-1 else -6 if i in charging_locs else -2 for i in range(len(layout.columns))}, index=[1])\n",
    "    aisle1 = pd.DataFrame({i: -1 if i == 0 or i == len(layout.columns)-1 else -5 if i in charging_locs else -2 for i in range(len(layout.columns))}, index=[2])\n",
    "    line = pd.DataFrame({i: -1 if i == 0 or i == len(layout.columns)-1 else -2 if i == 1 else -5 for i in range(len(layout.columns))}, index=[3])\n",
    "    aisle2 = pd.DataFrame({i: -1 if i == 0 or i == len(layout.columns)-1 else -5 if i == 2 else -2 for i in range(len(layout.columns))}, index=[4])\n",
    "    \n",
    "    layout_new = pd.concat([layout.iloc[:1], aisle, aisle1, line, aisle2, layout.iloc[1:]]).reset_index(drop=True)\n",
    "    return layout_new\n",
    "\n",
    "def gen_charging_stations_left(layout, n_cs):\n",
    "    # Calculate the positions for charging stations\n",
    "    charging_locs = [len(layout.index) * i // (n_cs + 1) for i in range(1, n_cs + 1)]\n",
    "    \n",
    "    # Create new columns for the charging stations and aisles\n",
    "    aisle = pd.Series({i: -1 if i == 0 or i == len(layout.index)-1 else -6 if i in charging_locs else -2 for i in range(len(layout.index))})\n",
    "    aisle1 = pd.Series({i: -1 if i == 0 or i == len(layout.index)-1 else -5 if i in charging_locs else -2 for i in range(len(layout.index))})\n",
    "    #line = pd.Series({i: -1 if i == 0 or i == len(layout.index)-1 else -2 if i == 1 else -5 for i in range(len(layout.index))})\n",
    "    # aisle2 = pd.Series({i: -1 if i == 0 or i == len(layout.index)-1 else -5 if i in charging_locs else -2 for i in range(len(layout.index))})\n",
    "    # aisle3 = pd.Series({i: -1 if i == 0 or i == len(layout.index)-1 else -5 if i in charging_locs else -2 for i in range(len(layout.index))})\n",
    "    \n",
    "    # Concatenate the new columns with the existing layout, preserving the structure\n",
    "    layout_new = pd.concat([\n",
    "        layout.iloc[:, :1],  # First column of original layout\n",
    "        pd.DataFrame({0: aisle, 1: aisle1}),  # New columns\n",
    "        layout.iloc[:, 2:]  # Rest of the original layout\n",
    "    ], axis=1)\n",
    "    \n",
    "    # Reset and rename the columns\n",
    "    layout_new.columns = range(len(layout_new.columns))\n",
    "    \n",
    "    return layout_new\n",
    "    "
   ],
   "outputs": [],
   "execution_count": 73
  },
  {
   "metadata": {
    "ExecuteTime": {
     "end_time": "2024-10-26T18:38:54.879213Z",
     "start_time": "2024-10-26T18:38:54.872520Z"
    }
   },
   "cell_type": "code",
   "source": [
    "if use_case == \"wepastacks\":\n",
    "    layout_new = gen_charging_stations(layout, 4)\n",
    "elif use_case == \"crossstacks\":\n",
    "    layout_new = gen_charging_stations_left(layout, 4)"
   ],
   "id": "ee70ed738168eaf1",
   "outputs": [],
   "execution_count": 74
  },
  {
   "cell_type": "code",
   "id": "94a8549ed7f9bb33",
   "metadata": {
    "collapsed": false,
    "ExecuteTime": {
     "end_time": "2024-10-26T08:29:40.338517Z",
     "start_time": "2024-10-26T08:29:40.226548Z"
    }
   },
   "source": [
    "plt.imshow(layout_new)"
   ],
   "outputs": [
    {
     "data": {
      "text/plain": [
       "<matplotlib.image.AxesImage at 0x2609a8596d0>"
      ]
     },
     "execution_count": 66,
     "metadata": {},
     "output_type": "execute_result"
    },
    {
     "data": {
      "text/plain": [
       "<Figure size 640x480 with 1 Axes>"
      ],
      "image/png": "[encoded data removed]"
     },
     "metadata": {},
     "output_type": "display_data"
    }
   ],
   "execution_count": 66
  },
  {
   "cell_type": "code",
   "id": "8dd802260993ea27",
   "metadata": {
    "collapsed": false,
    "ExecuteTime": {
     "end_time": "2024-10-26T08:30:41.923937Z",
     "start_time": "2024-10-26T08:30:41.914389Z"
    }
   },
   "source": "layout_new.to_csv(f\"../1_environment/slapstack/slapstack/use_cases/{use_case}_bm/1_layout.csv\", header=None, index=False)",
   "outputs": [],
   "execution_count": 67
  },
  {
   "cell_type": "code",
   "execution_count": null,
   "id": "b0afdca2aa206216",
   "metadata": {
    "collapsed": false
   },
   "outputs": [],
   "source": [
    "import json\n",
    "root_dir_partitions = '../1_environment/slapstack/slapstack/use_cases/wepastacks_bm/partitions/'\n",
    "\n",
    "def load_partitions_data(path):\n",
    "    col_orders = [\"order\", \"SKU\", \"arrival\", \"dock\", \"batch\", \"week\"]\n",
    "    col_fill_lvl = [\"SKU\", \"amount\"]\n",
    "    orders = json.load(open(f'{path}_orders.json')) \n",
    "    fill_level = json.load(open(f'{path}_fill_lvl.json')) \n",
    "    return (pd.DataFrame(columns=col_orders, data=orders), \n",
    "            pd.DataFrame.from_dict(data=fill_level, orient='index'))\n",
    "\n",
    "orders_dict = dict({})\n",
    "fill_lvls_dict = dict({})\n",
    "n_partitions = 20\n",
    "\n",
    "for pt_idx in range(n_partitions):\n",
    "    orders_dict[pt_idx] = []\n",
    "    fill_lvls_dict[pt_idx] = []\n",
    "    orders, fill_level = load_partitions_data(f'{root_dir_partitions}{pt_idx}_partition')\n",
    "    if orders is not None:\n",
    "        orders_dict[pt_idx].append(orders)\n",
    "    if fill_level is not None:\n",
    "        fill_lvls_dict[pt_idx].append(fill_level)\n",
    "        \n",
    "total_locations = 19512\n",
    "fill_lvls = []\n",
    "for pt_idx in range(n_partitions):\n",
    "    fill_lvls.append(float((fill_lvls_dict[pt_idx][0].sum() / total_locations) * 100))\n",
    "    \n",
    "def agg_overall_stocklevels(row):\n",
    "    global current_stock_overall\n",
    "    \n",
    "    #update current_stock_overall\n",
    "    current_level = row['amount_change'] + current_stock_overall\n",
    "    current_stock_overall = current_level\n",
    "    return current_level\n",
    "\n",
    "def convert_time(row):\n",
    "    return pd.Timestamp(row[\"arrival\"], unit='s') \n",
    "\n",
    "total_locations = 19512\n",
    "\n",
    "for idx in orders_dict.keys():\n",
    "    current_partition = orders_dict[idx][0]\n",
    "    current_partition.loc[current_partition['order'] == 'retrieval', 'amount_change'] = -1\n",
    "    current_partition.loc[current_partition['order'] == 'delivery', 'amount_change'] = 1\n",
    "\n",
    "    current_stock_overall = fill_lvls_dict[idx][0].sum()\n",
    "    \n",
    "    current_partition['current_stock_overall'] = current_partition.apply(agg_overall_stocklevels, axis = 1)\n",
    "    current_partition[\"fill_level\"] = current_partition[\"current_stock_overall\"] / total_locations\n",
    "    \n",
    "    current_partition[\"arrival_datetime\"] = current_partition.apply(lambda x: convert_time(x), axis=1)\n",
    "    current_partition[\"date\"] = current_partition[\"arrival_datetime\"].apply(lambda x: x.strftime(\"%Y-%m-%d\"))\n",
    "    current_partition[\"day\"] = current_partition[\"arrival_datetime\"].apply(lambda x: x.weekday())\n",
    "    current_partition[\"hour\"] = current_partition[\"arrival_datetime\"].apply(lambda x: x.hour)\n",
    "    current_partition[\"partition\"] = idx\n",
    "    try:\n",
    "        assert  fill_lvls_dict[idx+1][0].sum()[0] == current_partition.iloc[-1][\"current_stock_overall\"]\n",
    "    except KeyError:\n",
    "        print(\"Key\")"
   ]
  }
 ],
 "metadata": {
  "kernelspec": {
   "display_name": "Python 3",
   "language": "python",
   "name": "python3"
  },
  "language_info": {
   "codemirror_mode": {
    "name": "ipython",
    "version": 2
   },
   "file_extension": ".py",
   "mimetype": "text/x-python",
   "name": "python",
   "nbconvert_exporter": "python"
  }
 },
 "nbformat": 4,
 "nbformat_minor": 5
}
